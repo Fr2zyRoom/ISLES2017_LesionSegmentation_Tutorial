{
 "cells": [
  {
   "cell_type": "code",
   "execution_count": null,
   "metadata": {},
   "outputs": [],
   "source": [
    "import numpy as np\n",
    "import pandas as pd\n",
    "import nibabel as nib\n",
    "import PIL.Image as Image\n",
    "import os\n",
    "import numpy as np\n",
    "import glob\n",
    "from tqdm import tqdm\n",
    "import scipy.ndimage\n",
    "\n",
    "common_dir = '/home/ncp/workspace/202002n050/050.신경계 질환 관련 임상 및 진료 데이터'\n",
    "\n",
    "FILE_EXTENSION = ['.png', '.PNG', '.jpg', '.JPG', '.dcm', '.DCM', '.raw', '.RAW', '.svs', '.SVS']\n",
    "IMG_EXTENSION = ['.png', '.PNG', '.jpg', '.JPG', '.jpeg', '.JPEG']\n",
    "DCM_EXTENSION = ['.dcm', '.DCM']\n",
    "RAW_EXTENSION = ['.raw', '.RAW']\n",
    "NIFTI_EXTENSION = ['.nii']\n",
    "NP_EXTENSION = ['.npy']\n",
    "\n",
    "\n",
    "def check_extension(filename, extension_ls=FILE_EXTENSION):\n",
    "    return any(filename.endswith(extension) for extension in extension_ls)\n",
    "\n",
    "\n",
    "def load_file_path(folder_path, extension_ls=FILE_EXTENSION, all_sub_folders=False):\n",
    "    \"\"\"find 'IMG_EXTENSION' file paths in folder.\n",
    "    \n",
    "    Parameters:\n",
    "        folder_path (str) -- folder directory\n",
    "        extension_ls (list) -- list of extensions\n",
    "    \n",
    "    Return:\n",
    "        file_paths (list) -- list of 'extension_ls' file paths\n",
    "    \"\"\"\n",
    "    \n",
    "    file_paths = []\n",
    "    assert os.path.isdir(folder_path), f'{folder_path} is not a valid directory'\n",
    "\n",
    "    for root, _, fnames in sorted(os.walk(folder_path)):\n",
    "        for fname in fnames:\n",
    "            if check_extension(fname, extension_ls):\n",
    "                path = os.path.join(root, fname)\n",
    "                file_paths.append(path)\n",
    "        if not all_sub_folders:\n",
    "            break\n",
    "\n",
    "    return file_paths[:]\n",
    "\n",
    "\n",
    "def gen_new_dir(new_dir):\n",
    "    try: \n",
    "        if not os.path.exists(new_dir): \n",
    "            os.makedirs(new_dir) \n",
    "            #print(f\"New directory!: {new_dir}\")\n",
    "    except OSError: \n",
    "        print(\"Error: Failed to create the directory.\")\n",
    "        \n",
    "\n",
    "def find_aihub_img_mask_dir(common_dir, fname, folder='train'):\n",
    "    if folder == 'train':\n",
    "        img_dir = os.path.join(common_dir, '01.데이터/1.Training/원천데이터', fname, 'init/image')\n",
    "        mask_dir = os.path.join(common_dir, '01.데이터/1.Training/라벨링데이터', fname, 'init/mask')\n",
    "    elif folder == 'val':\n",
    "        img_dir = os.path.join(common_dir, '01.데이터/2.Validation/원천데이터', fname, 'init/image')\n",
    "        mask_dir = os.path.join(common_dir, '01.데이터/2.Validation/라벨링데이터', fname, 'init/mask')\n",
    "        \n",
    "    return [img_dir, mask_dir]\n",
    "\n",
    "\n",
    "def pair_img_mask_path(common_dir, fname, folder='train'):\n",
    "    img_dir, mask_dir = find_aihub_img_mask_dir(common_dir, fname, folder)\n",
    "    img_path_ls = sorted(glob.glob(os.path.join(img_dir, '*.png')))\n",
    "    if len(img_path_ls) == 0:\n",
    "        return None\n",
    "    img_path_dict = {os.path.splitext(os.path.basename(p))[0]:p for p in img_path_ls}\n",
    "    if os.path.isdir(mask_dir):\n",
    "        mask_path_ls = sorted(glob.glob(os.path.join(mask_dir, '*.png')))\n",
    "        mask_path_dict = {os.path.splitext(os.path.basename(p))[0]:p for p in mask_path_ls}\n",
    "    else:\n",
    "        mask_path_dict = {}\n",
    "    paired_list = []\n",
    "    for imgnum, imgpath in img_path_dict.items():\n",
    "        paired_list.append([imgpath, mask_path_dict.get(imgnum)])\n",
    "    return paired_list\n",
    "\n",
    "\n",
    "def find_aihub_img_mask_fname(common_dir, folder='train'):\n",
    "    if folder=='train':\n",
    "        data_dir = os.path.join(common_dir, '01.데이터/1.Training/원천데이터')\n",
    "    elif folder=='val':\n",
    "        data_dir = os.path.join(common_dir, '01.데이터/2.Validation/원천데이터')\n",
    "        \n",
    "    _fname = os.listdir(data_dir)\n",
    "    _fname = [p for p in _fname if os.path.isdir(os.path.join(data_dir, p))]\n",
    "    paths_list = []\n",
    "    for fname in _fname:\n",
    "        tmp = pair_img_mask_path(fname, mod)\n",
    "        if tmp:\n",
    "            for p in tmp:\n",
    "                paths_list.append(p)\n",
    "    img_list, mask_list = list(zip(*paths_list))\n",
    "    return img_list, mask_list"
   ]
  },
  {
   "cell_type": "code",
   "execution_count": null,
   "metadata": {},
   "outputs": [],
   "source": [
    "aihub_df = pd.read_csv('/home/ncp/workspace/AIHUB_dataset/df_csv_merged_v.2.1.csv')"
   ]
  },
  {
   "cell_type": "code",
   "execution_count": null,
   "metadata": {},
   "outputs": [],
   "source": [
    "train_fname = find_aihub_img_mask_fname(common_dir, folder='train')\n",
    "val_fname = find_aihub_img_mask_fname(common_dir, folder='val')\n",
    "def check_folder_dir(fname):\n",
    "    if fname in train_fname:\n",
    "        return 'train'\n",
    "    elif fname in val_fname:\n",
    "        return 'val'\n",
    "    else:\n",
    "        return None\n",
    "\n",
    "def split_train_val_test(fname):\n",
    "    if fname in train_fname:\n",
    "        return 'train'\n",
    "    elif fname in val_fname:\n",
    "        return 'val'\n",
    "    elif fname in test_fname:\n",
    "        return 'test'\n",
    "    else:\n",
    "        return None"
   ]
  },
  {
   "cell_type": "code",
   "execution_count": null,
   "metadata": {},
   "outputs": [],
   "source": [
    "aihub_df.columns.values"
   ]
  },
  {
   "cell_type": "code",
   "execution_count": null,
   "metadata": {},
   "outputs": [],
   "source": [
    "pred_aihub_df['folder'] = pred_aihub_df['name'].map(lambda x: check_folder_dir(x))"
   ]
  },
  {
   "cell_type": "code",
   "execution_count": null,
   "metadata": {},
   "outputs": [],
   "source": [
    "pred_aihub_df_clear = pred_aihub_df.copy()\n",
    "pred_aihub_df_clear['mrs_3m'] = pred_aihub_df['mrs_3m'].fillna(value=pred_aihub_df.mrs3mo)"
   ]
  },
  {
   "cell_type": "code",
   "execution_count": null,
   "metadata": {},
   "outputs": [],
   "source": [
    "pred_aihub_df_clear = pred_aihub_df_clear[['name', 'good_outcome_3m', 'mrs_3m', 'folder']]"
   ]
  },
  {
   "cell_type": "code",
   "execution_count": null,
   "metadata": {},
   "outputs": [],
   "source": [
    "pred_aihub_df_clear.isna().sum()"
   ]
  },
  {
   "cell_type": "code",
   "execution_count": null,
   "metadata": {},
   "outputs": [],
   "source": [
    "pred_aihub_df_clear = pred_aihub_df_clear.astype({'good_outcome_3m':int,\n",
    "                                                  'mrs_3m':int})"
   ]
  },
  {
   "cell_type": "code",
   "execution_count": null,
   "metadata": {},
   "outputs": [],
   "source": [
    "from sklearn.model_selection import train_test_split"
   ]
  },
  {
   "cell_type": "code",
   "execution_count": null,
   "metadata": {},
   "outputs": [],
   "source": [
    "tot_fname_label = pred_aihub_df_clear[['name', 'good_outcome_3m']].values\n",
    "tot_fname = tot_fname_label[:,0]\n",
    "tot_label = tot_fname_label[:,1]\n",
    "\n",
    "train_fname, valtest_fname, train_label, valtest_label = train_test_split(tot_fname, \n",
    "                                                                          tot_label, \n",
    "                                                                          test_size=0.2, \n",
    "                                                                          random_state=77, \n",
    "                                                                          stratify=tot_label)\n",
    "val_fname, test_fname, val_label, test_label = train_test_split(valtest_fname, \n",
    "                                                                valtest_label, \n",
    "                                                                test_size=0.5, \n",
    "                                                                random_state=77, \n",
    "                                                                stratify=valtest_label)"
   ]
  },
  {
   "cell_type": "code",
   "execution_count": null,
   "metadata": {},
   "outputs": [],
   "source": [
    "pred_aihub_df_clear['split'] = pred_aihub_df_clear['name'].map(lambda x: split_train_val_test(x))"
   ]
  },
  {
   "cell_type": "code",
   "execution_count": null,
   "metadata": {},
   "outputs": [],
   "source": [
    "pred_aihub_df_clear[pred_aihub_df_clear.split == 'train']['good_outcome_3m'].value_counts()"
   ]
  },
  {
   "cell_type": "code",
   "execution_count": null,
   "metadata": {},
   "outputs": [],
   "source": [
    "pred_aihub_df_clear[pred_aihub_df_clear.split == 'train']['mrs_3m'].value_counts()"
   ]
  },
  {
   "cell_type": "code",
   "execution_count": null,
   "metadata": {},
   "outputs": [],
   "source": [
    "idx_mrs_3m_9 = pred_aihub_df_clear[pred_aihub_df_clear.mrs_3m == 9].index\n",
    "pred_aihub_df_clear = pred_aihub_df_clear.drop(idx_mrs_3m_9)"
   ]
  },
  {
   "cell_type": "code",
   "execution_count": null,
   "metadata": {},
   "outputs": [],
   "source": [
    "pred_aihub_df_clear[pred_aihub_df_clear.split=='train']['mrs_3m'].value_counts()"
   ]
  },
  {
   "cell_type": "code",
   "execution_count": null,
   "metadata": {},
   "outputs": [],
   "source": [
    "pred_aihub_df_clear.to_csv('/home/ncp/workspace/blocks1/3D_CNN_for_PRED/aihub_df.csv', index=False)"
   ]
  },
  {
   "cell_type": "code",
   "execution_count": null,
   "metadata": {},
   "outputs": [],
   "source": [
    "fname_folder = pred_aihub_df_clear[['name', 'folder']].values"
   ]
  },
  {
   "cell_type": "code",
   "execution_count": null,
   "metadata": {},
   "outputs": [],
   "source": [
    "def read_png_file(filepath):\n",
    "    return np.array(Image.open(filepath))\n",
    "\n",
    "\n",
    "def read_mask_file(filepath):\n",
    "    return np.where(np.array(Image.open(filepath)), 1, 0)\n",
    "\n",
    "\n",
    "def resample_3d(image_3d, dsize=(36,256,256)):\n",
    "    rounded_resize_factor = np.array(dsize) / image_3d.shape\n",
    "    \n",
    "    return scipy.ndimage.interpolation.zoom(image_3d, rounded_resize_factor, mode='nearest')"
   ]
  },
  {
   "cell_type": "code",
   "execution_count": null,
   "metadata": {},
   "outputs": [],
   "source": [
    "def save_arr_to_np(arr, savepoint, fname):\n",
    "    np.save(os.path.join(savepoint, fname+'.npy'), arr)"
   ]
  },
  {
   "cell_type": "code",
   "execution_count": null,
   "metadata": {},
   "outputs": [],
   "source": [
    "savepoint = '/home/ncp/workspace/blocks1/3D_CNN_for_PRED/data_np'\n",
    "dwi_savepoint = os.path.join(savepoint, 'dwi')\n",
    "mask_savepoint = os.path.join(savepoint, 'mask')\n",
    "gen_new_dir(dwi_savepoint)\n",
    "gen_new_dir(mask_savepoint)\n",
    "\n",
    "for fname, folder in tqdm(fname_folder):\n",
    "    dwi_stack = []\n",
    "    mask_stack = []\n",
    "    dwi_mask_paths_ls = pair_img_mask_path(common_dir, fname, folder)\n",
    "    if dwi_mask_paths_ls:\n",
    "        for dwi_path, mask_path in dwi_mask_paths_ls:\n",
    "            dwi_stack.append(read_png_file(dwi_path))\n",
    "            mask_stack.append(read_png_file(mask_path))\n",
    "        dwi_stack = np.stack(dwi_stack, axis=0)\n",
    "        mask_stack = np.stack(mask_stack, axis=0)\n",
    "        save_arr_to_np(dwi_stack, dwi_savepoint, fname)\n",
    "        save_arr_to_np(mask_stack, mask_savepoint, fname)"
   ]
  },
  {
   "cell_type": "code",
   "execution_count": null,
   "metadata": {},
   "outputs": [],
   "source": [
    "savepoint = '/home/ncp/workspace/blocks1/3D_CNN_for_PRED/data_np_resampled'\n",
    "dwi_savepoint = os.path.join(savepoint, 'dwi')\n",
    "mask_savepoint = os.path.join(savepoint, 'mask')\n",
    "gen_new_dir(dwi_savepoint)\n",
    "gen_new_dir(mask_savepoint)\n",
    "\n",
    "for fname, folder in tqdm(fname_folder):\n",
    "    dwi_stack = []\n",
    "    mask_stack = []\n",
    "    dwi_mask_paths_ls = pair_img_mask_path(common_dir, fname, folder)\n",
    "    if dwi_mask_paths_ls:\n",
    "        for dwi_path, mask_path in dwi_mask_paths_ls:\n",
    "            dwi_stack.append(read_png_file(dwi_path))\n",
    "            mask_stack.append(read_png_file(mask_path))\n",
    "        dwi_stack = np.stack(dwi_stack, axis=0)\n",
    "        mask_stack = np.stack(mask_stack, axis=0)\n",
    "        dwi_stack_resampled = resample_3d(dwi_stack)\n",
    "        mask_stack_resampled = resample_3d(mask_stack)\n",
    "        save_arr_to_np(dwi_stack_resampled, dwi_savepoint, fname)\n",
    "        save_arr_to_np(mask_stack_resampled, mask_savepoint, fname)"
   ]
  }
 ],
 "metadata": {
  "kernelspec": {
   "display_name": "Python 3",
   "language": "python",
   "name": "python3"
  },
  "language_info": {
   "codemirror_mode": {
    "name": "ipython",
    "version": 3
   },
   "file_extension": ".py",
   "mimetype": "text/x-python",
   "name": "python",
   "nbconvert_exporter": "python",
   "pygments_lexer": "ipython3",
   "version": "3.6.9"
  }
 },
 "nbformat": 4,
 "nbformat_minor": 4
}
